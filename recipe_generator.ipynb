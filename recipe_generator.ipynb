{
 "cells": [
  {
   "cell_type": "markdown",
   "metadata": {},
   "source": [
    "### 1.Run commands needed to run code:"
   ]
  },
  {
   "cell_type": "markdown",
   "metadata": {},
   "source": [
    "Used models: <br>\n",
    "https://huggingface.co/flax-community/t5-recipe-generation <br>\n",
    "https://huggingface.co/Helsinki-NLP/opus-mt-ru-en<br>\n",
    "https://huggingface.co/SnypzZz/Llama2-13b-Language-translate<br>"
   ]
  },
  {
   "cell_type": "code",
   "execution_count": null,
   "metadata": {
    "vscode": {
     "languageId": "powershell"
    }
   },
   "outputs": [],
   "source": [
    "pip install transformers  "
   ]
  },
  {
   "cell_type": "code",
   "execution_count": null,
   "metadata": {
    "vscode": {
     "languageId": "powershell"
    }
   },
   "outputs": [],
   "source": [
    "pip install --upgrade jax jaxlib # CPU-only  "
   ]
  },
  {
   "cell_type": "code",
   "execution_count": null,
   "metadata": {
    "vscode": {
     "languageId": "powershell"
    }
   },
   "outputs": [],
   "source": [
    "pip install flax       "
   ]
  },
  {
   "cell_type": "code",
   "execution_count": null,
   "metadata": {
    "vscode": {
     "languageId": "powershell"
    }
   },
   "outputs": [],
   "source": [
    "pip install torch torchvision torchaudio\n"
   ]
  },
  {
   "cell_type": "code",
   "execution_count": null,
   "metadata": {
    "vscode": {
     "languageId": "powershell"
    }
   },
   "outputs": [],
   "source": [
    "pip install sentencepiece"
   ]
  },
  {
   "cell_type": "code",
   "execution_count": null,
   "metadata": {
    "vscode": {
     "languageId": "powershell"
    }
   },
   "outputs": [],
   "source": [
    "pip install sacremoses"
   ]
  },
  {
   "cell_type": "markdown",
   "metadata": {},
   "source": [
    "#### 2. Declare your input and output language"
   ]
  },
  {
   "cell_type": "code",
   "execution_count": 13,
   "metadata": {
    "vscode": {
     "languageId": "powershell"
    }
   },
   "outputs": [],
   "source": [
    "language_cd = \"en\""
   ]
  },
  {
   "cell_type": "code",
   "execution_count": 2,
   "metadata": {},
   "outputs": [],
   "source": [
    "language_cd = \"pl\""
   ]
  },
  {
   "cell_type": "markdown",
   "metadata": {},
   "source": [
    "#### 3. Declare all your available grocery items"
   ]
  },
  {
   "cell_type": "code",
   "execution_count": 15,
   "metadata": {},
   "outputs": [],
   "source": [
    "items = [\n",
    "    \"macaroni, butter, salt, bacon, milk, flour, pepper, cream corn\",\n",
    "    \"provolone cheese, bacon, bread, ginger\",\n",
    "    \"pepper\"\n",
    "]"
   ]
  },
  {
   "cell_type": "code",
   "execution_count": 3,
   "metadata": {},
   "outputs": [],
   "source": [
    "items = [\n",
    "    \"wieprzowe mięso mielone, pieczarki, pieprz, sól, majeranek, tymianek, bazylia, papryka słodka, oliwa, olej, makaron, mąka, jajka\"\n",
    "]"
   ]
  },
  {
   "cell_type": "markdown",
   "metadata": {},
   "source": [
    "#### 5. Load model for translation"
   ]
  },
  {
   "cell_type": "code",
   "execution_count": 4,
   "metadata": {},
   "outputs": [],
   "source": [
    "from transformers import MBartForConditionalGeneration, MBart50TokenizerFast,MarianMTModel, MarianTokenizer\n",
    "\n",
    "\n",
    "def translate_polish_to_english(text):\n",
    "    model_name = \"Helsinki-NLP/opus-mt-pl-en\"\n",
    "    model = MarianMTModel.from_pretrained(model_name)\n",
    "    tokenizer = MarianTokenizer.from_pretrained(model_name)\n",
    "    inputs = tokenizer(text, return_tensors=\"pt\", max_length=512, truncation=True)\n",
    "    translation = model.generate(**inputs)\n",
    "    translated_text = tokenizer.decode(translation[0], skip_special_tokens=True)\n",
    "    return translated_text\n",
    "\n",
    "\n",
    "def translate_english_to_polish(text):\n",
    "    model = MBartForConditionalGeneration.from_pretrained(\"SnypzZz/Llama2-13b-Language-translate\")\n",
    "    tokenizer_eng = MBart50TokenizerFast.from_pretrained(\"SnypzZz/Llama2-13b-Language-translate\", src_lang=\"en_XX\")\n",
    "    model_inputs = tokenizer_eng(text, return_tensors=\"pt\")\n",
    "    generated_tokens = model.generate(\n",
    "        **model_inputs,\n",
    "        forced_bos_token_id=tokenizer_eng.lang_code_to_id[\"pl_PL\"]\n",
    "    )\n",
    "    english_to_polish = tokenizer_eng.batch_decode(generated_tokens, skip_special_tokens=True)\n",
    "    return english_to_polish"
   ]
  },
  {
   "cell_type": "code",
   "execution_count": 5,
   "metadata": {},
   "outputs": [
    {
     "name": "stdout",
     "output_type": "stream",
     "text": [
      "['pork minced meat, mushrooms, pepper, salt, marjoram, thyme, basil, sweet peppers, oil, pasta, flour, eggs']\n"
     ]
    }
   ],
   "source": [
    "if language_cd == 'pl':\n",
    "    for el in items:\n",
    "        translated_items = translate_polish_to_english(el)\n",
    "        items.append(translated_items)\n",
    "        items.remove(el)\n",
    "print(items)"
   ]
  },
  {
   "cell_type": "markdown",
   "metadata": {},
   "source": [
    "### 6. Load chef model"
   ]
  },
  {
   "cell_type": "code",
   "execution_count": 6,
   "metadata": {},
   "outputs": [
    {
     "name": "stdout",
     "output_type": "stream",
     "text": [
      "Tytuł: minced stroganoff\n",
      "Składniki: 400 g mięsa wieprzowego mielonego\n",
      " 10 g grzybów, nakrojonych\n",
      " 1/8 łyżeczka pieprzu\n",
      " 1/8 łyżeczka soli\n",
      " 1/2 łyżeczka marjoram\n",
      " 1/2 łyżeczka tymiany\n",
      " 1/4 łyżeczka bazyliki\n",
      " 4 słodkie pieprzy, przekrojone i drobnie nakrojone\n",
      " olej, do smażenia\n",
      " makarony\n",
      " 250 g mąki ogólnej\n",
      " 2 jaja\n",
      "kierunki: ogrzewanie oleju w patelni do smażenia.\n",
      " dodać grzyby i smażyć na minutę lub tak.\n",
      " dodać mięso i smażyć na 5 minut na średnim ogniu.\n",
      " sezon z przyprawami i dodać pieprzy.\n",
      " mieszać smażyć na kolejne 3 minuty.\n",
      " dodać makaron do patelni i dobrze mieszać.\n",
      " pokryć patelni i gotować na 10 minut lub dopóki makaron jest gotowany.\n",
      " do servirowania, łyżka mielony stroganoff nad makaronem.\n"
     ]
    }
   ],
   "source": [
    "from transformers import FlaxAutoModelForSeq2SeqLM\n",
    "from transformers import AutoTokenizer\n",
    "MODEL_NAME_OR_PATH = \"flax-community/t5-recipe-generation\"\n",
    "tokenizer = AutoTokenizer.from_pretrained(MODEL_NAME_OR_PATH, use_fast=True)\n",
    "model = FlaxAutoModelForSeq2SeqLM.from_pretrained(MODEL_NAME_OR_PATH)\n",
    "\n",
    "prefix = \"items: \"\n",
    "generation_kwargs = {\n",
    "    \"max_length\": 512,\n",
    "    \"min_length\": 64,\n",
    "    \"no_repeat_ngram_size\": 3,\n",
    "    \"do_sample\": True,\n",
    "    \"top_k\": 60,\n",
    "    \"top_p\": 0.95\n",
    "}\n",
    "\n",
    "special_tokens = tokenizer.all_special_tokens\n",
    "tokens_map = {\n",
    "    \"<sep>\": \"--\",\n",
    "    \"<section>\": \"\\n\"\n",
    "}\n",
    "\n",
    "\n",
    "def skip_special_tokens(text, special_tokens):\n",
    "    for token in special_tokens:\n",
    "        text = text.replace(token, \"\")\n",
    "\n",
    "    return text\n",
    "\n",
    "\n",
    "def target_postprocessing(texts, special_tokens):\n",
    "    if not isinstance(texts, list):\n",
    "        texts = [texts]\n",
    "\n",
    "    new_texts = []\n",
    "    for text in texts:\n",
    "        text = skip_special_tokens(text, special_tokens)\n",
    "\n",
    "        for k, v in tokens_map.items():\n",
    "            text = text.replace(k, v)\n",
    "\n",
    "        new_texts.append(text)\n",
    "\n",
    "    return new_texts\n",
    "\n",
    "\n",
    "def generation_function(texts):\n",
    "    _inputs = texts if isinstance(texts, list) else [texts]\n",
    "    inputs = [prefix + inp for inp in _inputs]\n",
    "    inputs = tokenizer(\n",
    "        inputs,\n",
    "        max_length=256,\n",
    "        padding=\"max_length\",\n",
    "        truncation=True,\n",
    "        return_tensors=\"jax\"\n",
    "    )\n",
    "\n",
    "    input_ids = inputs.input_ids\n",
    "    attention_mask = inputs.attention_mask\n",
    "\n",
    "    output_ids = model.generate(\n",
    "        input_ids=input_ids,\n",
    "        attention_mask=attention_mask,\n",
    "        **generation_kwargs\n",
    "    )\n",
    "    generated = output_ids.sequences\n",
    "    generated_recipe = target_postprocessing(\n",
    "        tokenizer.batch_decode(generated, skip_special_tokens=False),\n",
    "        special_tokens\n",
    "    )\n",
    "    return generated_recipe\n",
    "\n",
    "generated = generation_function(items)\n",
    "text = generated[0].split(\"\\n\")\n",
    "final_translated_receipe = []\n",
    "if language_cd == 'pl':\n",
    "    for i in text:\n",
    "        final_translated_receipe.append(translate_english_to_polish(i))\n",
    "else:\n",
    "    for i in text:\n",
    "        final_translated_receipe.append(i)\n",
    "for section in final_translated_receipe:\n",
    "    steps = section[0].split(\"--\")\n",
    "    for el in steps:\n",
    "        print(el)"
   ]
  }
 ],
 "metadata": {
  "kernelspec": {
   "display_name": "Python 3",
   "language": "python",
   "name": "python3"
  },
  "language_info": {
   "codemirror_mode": {
    "name": "ipython",
    "version": 3
   },
   "file_extension": ".py",
   "mimetype": "text/x-python",
   "name": "python",
   "nbconvert_exporter": "python",
   "pygments_lexer": "ipython3",
   "version": "3.9.13"
  }
 },
 "nbformat": 4,
 "nbformat_minor": 2
}
