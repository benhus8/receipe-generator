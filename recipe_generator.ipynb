{
 "cells": [
  {
   "cell_type": "markdown",
   "metadata": {},
   "source": [
    "### 1.Run commands needed to run code:"
   ]
  },
  {
   "cell_type": "markdown",
   "metadata": {},
   "source": [
    "Used models: <br>\n",
    "https://huggingface.co/flax-community/t5-recipe-generation <br>\n",
    "https://huggingface.co/Helsinki-NLP/opus-mt-ru-en<br>\n",
    "https://huggingface.co/SnypzZz/Llama2-13b-Language-translate<br>"
   ]
  },
  {
   "cell_type": "code",
   "execution_count": 9,
   "metadata": {
    "vscode": {
     "languageId": "powershell"
    }
   },
   "outputs": [
    {
     "name": "stdout",
     "output_type": "stream",
     "text": [
      "Requirement already satisfied: transformers in d:\\anaconda\\lib\\site-packages (4.36.0)\n",
      "Requirement already satisfied: pyyaml>=5.1 in d:\\anaconda\\lib\\site-packages (from transformers) (6.0)\n",
      "Requirement already satisfied: numpy>=1.17 in d:\\anaconda\\lib\\site-packages (from transformers) (1.21.5)\n",
      "Requirement already satisfied: filelock in d:\\anaconda\\lib\\site-packages (from transformers) (3.6.0)\n",
      "Requirement already satisfied: regex!=2019.12.17 in d:\\anaconda\\lib\\site-packages (from transformers) (2022.7.9)\n",
      "Requirement already satisfied: safetensors>=0.3.1 in d:\\anaconda\\lib\\site-packages (from transformers) (0.4.1)\n",
      "Requirement already satisfied: tqdm>=4.27 in d:\\anaconda\\lib\\site-packages (from transformers) (4.64.1)\n",
      "Requirement already satisfied: tokenizers<0.19,>=0.14 in d:\\anaconda\\lib\\site-packages (from transformers) (0.15.0)\n",
      "Requirement already satisfied: huggingface-hub<1.0,>=0.19.3 in d:\\anaconda\\lib\\site-packages (from transformers) (0.19.4)\n",
      "Requirement already satisfied: packaging>=20.0 in c:\\users\\benhu\\appdata\\roaming\\python\\python39\\site-packages (from transformers) (23.2)\n",
      "Requirement already satisfied: requests in d:\\anaconda\\lib\\site-packages (from transformers) (2.28.1)\n",
      "Requirement already satisfied: fsspec>=2023.5.0 in d:\\anaconda\\lib\\site-packages (from huggingface-hub<1.0,>=0.19.3->transformers) (2023.12.2)\n",
      "Requirement already satisfied: typing-extensions>=3.7.4.3 in c:\\users\\benhu\\appdata\\roaming\\python\\python39\\site-packages (from huggingface-hub<1.0,>=0.19.3->transformers) (4.8.0)\n",
      "Requirement already satisfied: colorama in c:\\users\\benhu\\appdata\\roaming\\python\\python39\\site-packages (from tqdm>=4.27->transformers) (0.4.6)\n",
      "Requirement already satisfied: certifi>=2017.4.17 in d:\\anaconda\\lib\\site-packages (from requests->transformers) (2022.9.14)\n",
      "Requirement already satisfied: idna<4,>=2.5 in d:\\anaconda\\lib\\site-packages (from requests->transformers) (3.3)\n",
      "Requirement already satisfied: urllib3<1.27,>=1.21.1 in d:\\anaconda\\lib\\site-packages (from requests->transformers) (1.26.11)\n",
      "Requirement already satisfied: charset-normalizer<3,>=2 in d:\\anaconda\\lib\\site-packages (from requests->transformers) (2.0.4)\n",
      "Note: you may need to restart the kernel to use updated packages.\n"
     ]
    }
   ],
   "source": [
    "pip install transformers  "
   ]
  },
  {
   "cell_type": "code",
   "execution_count": 10,
   "metadata": {
    "vscode": {
     "languageId": "powershell"
    }
   },
   "outputs": [
    {
     "name": "stdout",
     "output_type": "stream",
     "text": [
      "Note: you may need to restart the kernel to use updated packages.\n"
     ]
    },
    {
     "name": "stderr",
     "output_type": "stream",
     "text": [
      "ERROR: Invalid requirement: '#'\n"
     ]
    }
   ],
   "source": [
    "pip install --upgrade jax jaxlib # CPU-only  "
   ]
  },
  {
   "cell_type": "code",
   "execution_count": 22,
   "metadata": {
    "vscode": {
     "languageId": "powershell"
    }
   },
   "outputs": [
    {
     "name": "stdout",
     "output_type": "stream",
     "text": [
      "Collecting flaxNote: you may need to restart the kernel to use updated packages.\n",
      "\n",
      "  Using cached flax-0.7.5-py3-none-any.whl (244 kB)\n",
      "Requirement already satisfied: PyYAML>=5.4.1 in d:\\anaconda\\lib\\site-packages (from flax) (6.0)\n",
      "Collecting rich>=11.1\n",
      "  Using cached rich-13.7.0-py3-none-any.whl (240 kB)\n",
      "Requirement already satisfied: numpy>=1.22 in d:\\anaconda\\lib\\site-packages (from flax) (1.24.4)\n",
      "Requirement already satisfied: typing-extensions>=4.2 in c:\\users\\benhu\\appdata\\roaming\\python\\python39\\site-packages (from flax) (4.8.0)\n",
      "Collecting optax\n",
      "  Using cached optax-0.1.7-py3-none-any.whl (154 kB)\n",
      "Collecting jax>=0.4.19\n",
      "  Using cached jax-0.4.21-py3-none-any.whl (1.7 MB)\n",
      "Collecting orbax-checkpoint\n",
      "  Using cached orbax_checkpoint-0.4.7-py3-none-any.whl (129 kB)\n",
      "Collecting tensorstore\n",
      "  Using cached tensorstore-0.1.51-cp39-cp39-win_amd64.whl (10.7 MB)\n",
      "Requirement already satisfied: msgpack in d:\\anaconda\\lib\\site-packages (from flax) (1.0.3)\n",
      "Requirement already satisfied: scipy>=1.9 in d:\\anaconda\\lib\\site-packages (from jax>=0.4.19->flax) (1.9.1)\n",
      "Collecting opt-einsum\n",
      "  Using cached opt_einsum-3.3.0-py3-none-any.whl (65 kB)\n",
      "Collecting ml-dtypes>=0.2.0\n",
      "  Using cached ml_dtypes-0.3.1-cp39-cp39-win_amd64.whl (126 kB)\n",
      "Requirement already satisfied: importlib-metadata>=4.6 in c:\\users\\benhu\\appdata\\roaming\\python\\python39\\site-packages (from jax>=0.4.19->flax) (6.8.0)\n",
      "Requirement already satisfied: pygments<3.0.0,>=2.13.0 in c:\\users\\benhu\\appdata\\roaming\\python\\python39\\site-packages (from rich>=11.1->flax) (2.16.1)\n",
      "Collecting markdown-it-py>=2.2.0\n",
      "  Using cached markdown_it_py-3.0.0-py3-none-any.whl (87 kB)\n",
      "Collecting absl-py>=0.7.1\n",
      "  Using cached absl_py-2.0.0-py3-none-any.whl (130 kB)\n",
      "Collecting chex>=0.1.5\n",
      "  Using cached chex-0.1.85-py3-none-any.whl (95 kB)\n",
      "Collecting jaxlib>=0.1.37\n",
      "  Using cached jaxlib-0.4.21-cp39-cp39-win_amd64.whl (46.7 MB)\n",
      "Collecting etils[epath,epy]\n",
      "  Using cached etils-1.5.2-py3-none-any.whl (140 kB)\n",
      "Requirement already satisfied: protobuf in d:\\anaconda\\lib\\site-packages (from orbax-checkpoint->flax) (4.25.1)\n",
      "Requirement already satisfied: nest_asyncio in c:\\users\\benhu\\appdata\\roaming\\python\\python39\\site-packages (from orbax-checkpoint->flax) (1.5.8)\n",
      "Requirement already satisfied: toolz>=0.9.0 in d:\\anaconda\\lib\\site-packages (from chex>=0.1.5->optax->flax) (0.11.2)\n",
      "Requirement already satisfied: zipp>=0.5 in c:\\users\\benhu\\appdata\\roaming\\python\\python39\\site-packages (from importlib-metadata>=4.6->jax>=0.4.19->flax) (3.17.0)\n",
      "Collecting mdurl~=0.1\n",
      "  Using cached mdurl-0.1.2-py3-none-any.whl (10.0 kB)\n",
      "Requirement already satisfied: fsspec in d:\\anaconda\\lib\\site-packages (from etils[epath,epy]->orbax-checkpoint->flax) (2023.12.2)\n",
      "Collecting importlib_resources\n",
      "  Using cached importlib_resources-6.1.1-py3-none-any.whl (33 kB)\n",
      "Installing collected packages: opt-einsum, ml-dtypes, mdurl, importlib_resources, etils, absl-py, tensorstore, markdown-it-py, jaxlib, jax, rich, chex, orbax-checkpoint, optax, flax\n",
      "Successfully installed absl-py-2.0.0 chex-0.1.85 etils-1.5.2 flax-0.7.5 importlib_resources-6.1.1 jax-0.4.21 jaxlib-0.4.21 markdown-it-py-3.0.0 mdurl-0.1.2 ml-dtypes-0.3.1 opt-einsum-3.3.0 optax-0.1.7 orbax-checkpoint-0.4.7 rich-13.7.0 tensorstore-0.1.51\n"
     ]
    }
   ],
   "source": [
    "pip install flax       "
   ]
  },
  {
   "cell_type": "code",
   "execution_count": 12,
   "metadata": {
    "vscode": {
     "languageId": "powershell"
    }
   },
   "outputs": [
    {
     "name": "stdout",
     "output_type": "stream",
     "text": [
      "Collecting torch\n",
      "  Using cached torch-2.1.1-cp39-cp39-win_amd64.whl (192.2 MB)\n",
      "Collecting torchvision\n",
      "  Using cached torchvision-0.16.1-cp39-cp39-win_amd64.whl (1.1 MB)\n",
      "Collecting torchaudio\n",
      "  Using cached torchaudio-2.1.1-cp39-cp39-win_amd64.whl (2.3 MB)\n",
      "Requirement already satisfied: fsspec in d:\\anaconda\\lib\\site-packages (from torch) (2023.12.2)\n",
      "Requirement already satisfied: networkx in d:\\anaconda\\lib\\site-packages (from torch) (2.8.4)\n",
      "Requirement already satisfied: filelock in d:\\anaconda\\lib\\site-packages (from torch) (3.6.0)\n",
      "Requirement already satisfied: sympy in d:\\anaconda\\lib\\site-packages (from torch) (1.10.1)\n",
      "Requirement already satisfied: jinja2 in d:\\anaconda\\lib\\site-packages (from torch) (2.11.3)\n",
      "Requirement already satisfied: typing-extensions in c:\\users\\benhu\\appdata\\roaming\\python\\python39\\site-packages (from torch) (4.8.0)\n",
      "Requirement already satisfied: pillow!=8.3.*,>=5.3.0 in d:\\anaconda\\lib\\site-packages (from torchvision) (9.2.0)\n",
      "Requirement already satisfied: numpy in d:\\anaconda\\lib\\site-packages (from torchvision) (1.24.4)\n",
      "Requirement already satisfied: requests in d:\\anaconda\\lib\\site-packages (from torchvision) (2.28.1)\n",
      "Requirement already satisfied: MarkupSafe>=0.23 in d:\\anaconda\\lib\\site-packages (from jinja2->torch) (2.0.1)\n",
      "Requirement already satisfied: charset-normalizer<3,>=2 in d:\\anaconda\\lib\\site-packages (from requests->torchvision) (2.0.4)\n",
      "Requirement already satisfied: urllib3<1.27,>=1.21.1 in d:\\anaconda\\lib\\site-packages (from requests->torchvision) (1.26.11)\n",
      "Requirement already satisfied: idna<4,>=2.5 in d:\\anaconda\\lib\\site-packages (from requests->torchvision) (3.3)\n",
      "Requirement already satisfied: certifi>=2017.4.17 in d:\\anaconda\\lib\\site-packages (from requests->torchvision) (2022.9.14)\n",
      "Requirement already satisfied: mpmath>=0.19 in d:\\anaconda\\lib\\site-packages (from sympy->torch) (1.2.1)\n",
      "Installing collected packages: torch, torchvision, torchaudio\n",
      "Successfully installed torch-2.1.1 torchaudio-2.1.1 torchvision-0.16.1\n",
      "Note: you may need to restart the kernel to use updated packages.\n"
     ]
    }
   ],
   "source": [
    "pip install torch torchvision torchaudio\n"
   ]
  },
  {
   "cell_type": "code",
   "execution_count": 13,
   "metadata": {
    "vscode": {
     "languageId": "powershell"
    }
   },
   "outputs": [
    {
     "ename": "SyntaxError",
     "evalue": "invalid syntax (280739124.py, line 1)",
     "output_type": "error",
     "traceback": [
      "\u001b[1;36m  Cell \u001b[1;32mIn[13], line 1\u001b[1;36m\u001b[0m\n\u001b[1;33m    pip install sentencepiece11\u001b[0m\n\u001b[1;37m        ^\u001b[0m\n\u001b[1;31mSyntaxError\u001b[0m\u001b[1;31m:\u001b[0m invalid syntax\n"
     ]
    }
   ],
   "source": [
    "# pip install sentencepiece11\n",
    "# !pip install datsets transformers[sentencepiece]"
   ]
  },
  {
   "cell_type": "code",
   "execution_count": 14,
   "metadata": {
    "vscode": {
     "languageId": "powershell"
    }
   },
   "outputs": [
    {
     "name": "stdout",
     "output_type": "stream",
     "text": [
      "Collecting sentencepiece\n",
      "  Using cached sentencepiece-0.1.99-cp39-cp39-win_amd64.whl (977 kB)\n",
      "Installing collected packages: sentencepiece\n",
      "Successfully installed sentencepiece-0.1.99\n",
      "Note: you may need to restart the kernel to use updated packages.\n"
     ]
    }
   ],
   "source": [
    "pip install sentencepiece"
   ]
  },
  {
   "cell_type": "code",
   "execution_count": 15,
   "metadata": {
    "vscode": {
     "languageId": "powershell"
    }
   },
   "outputs": [
    {
     "name": "stdout",
     "output_type": "stream",
     "text": [
      "Collecting sacremoses\n",
      "  Using cached sacremoses-0.1.1-py3-none-any.whl (897 kB)\n",
      "Requirement already satisfied: click in d:\\anaconda\\lib\\site-packages (from sacremoses) (8.0.4)\n",
      "Requirement already satisfied: tqdm in d:\\anaconda\\lib\\site-packages (from sacremoses) (4.64.1)\n",
      "Requirement already satisfied: regex in d:\\anaconda\\lib\\site-packages (from sacremoses) (2022.7.9)\n",
      "Requirement already satisfied: joblib in d:\\anaconda\\lib\\site-packages (from sacremoses) (1.1.0)\n",
      "Requirement already satisfied: colorama in c:\\users\\benhu\\appdata\\roaming\\python\\python39\\site-packages (from click->sacremoses) (0.4.6)\n",
      "Installing collected packages: sacremoses\n",
      "Successfully installed sacremoses-0.1.1\n",
      "Note: you may need to restart the kernel to use updated packages.\n"
     ]
    }
   ],
   "source": [
    "pip install sacremoses"
   ]
  },
  {
   "cell_type": "markdown",
   "metadata": {},
   "source": [
    "#### 2. Declare your input and output language"
   ]
  },
  {
   "cell_type": "code",
   "execution_count": 13,
   "metadata": {
    "vscode": {
     "languageId": "powershell"
    }
   },
   "outputs": [],
   "source": [
    "language_cd = \"en\""
   ]
  },
  {
   "cell_type": "code",
   "execution_count": 2,
   "metadata": {},
   "outputs": [],
   "source": [
    "language_cd = \"pl\""
   ]
  },
  {
   "cell_type": "markdown",
   "metadata": {},
   "source": [
    "#### 3. Declare all your available grocery items"
   ]
  },
  {
   "cell_type": "code",
   "execution_count": 15,
   "metadata": {},
   "outputs": [],
   "source": [
    "items = [\n",
    "    \"macaroni, butter, salt, bacon, milk, flour, pepper, cream corn\",\n",
    "    \"provolone cheese, bacon, bread, ginger\",\n",
    "    \"pepper\"\n",
    "]"
   ]
  },
  {
   "cell_type": "code",
   "execution_count": 3,
   "metadata": {},
   "outputs": [],
   "source": [
    "items = [\n",
    "    \"wieprzowe mięso mielone, pieczarki, pieprz, sól, majeranek, tymianek, bazylia, papryka słodka, oliwa, olej, makaron, mąka, jajka\"\n",
    "]"
   ]
  },
  {
   "cell_type": "markdown",
   "metadata": {},
   "source": [
    "#### 5. Load model for translation"
   ]
  },
  {
   "cell_type": "code",
   "execution_count": 4,
   "metadata": {},
   "outputs": [],
   "source": [
    "from transformers import MBartForConditionalGeneration, MBart50TokenizerFast,MarianMTModel, MarianTokenizer\n",
    "\n",
    "\n",
    "def translate_polish_to_english(text):\n",
    "    model_name = \"Helsinki-NLP/opus-mt-pl-en\"\n",
    "    model = MarianMTModel.from_pretrained(model_name)\n",
    "    tokenizer = MarianTokenizer.from_pretrained(model_name)\n",
    "    inputs = tokenizer(text, return_tensors=\"pt\", max_length=512, truncation=True)\n",
    "    translation = model.generate(**inputs)\n",
    "    translated_text = tokenizer.decode(translation[0], skip_special_tokens=True)\n",
    "    return translated_text\n",
    "\n",
    "\n",
    "def translate_english_to_polish(text):\n",
    "    model = MBartForConditionalGeneration.from_pretrained(\"SnypzZz/Llama2-13b-Language-translate\")\n",
    "    tokenizer_eng = MBart50TokenizerFast.from_pretrained(\"SnypzZz/Llama2-13b-Language-translate\", src_lang=\"en_XX\")\n",
    "    model_inputs = tokenizer_eng(text, return_tensors=\"pt\")\n",
    "    generated_tokens = model.generate(\n",
    "        **model_inputs,\n",
    "        forced_bos_token_id=tokenizer_eng.lang_code_to_id[\"pl_PL\"]\n",
    "    )\n",
    "    english_to_polish = tokenizer_eng.batch_decode(generated_tokens, skip_special_tokens=True)\n",
    "    return english_to_polish"
   ]
  },
  {
   "cell_type": "code",
   "execution_count": 5,
   "metadata": {},
   "outputs": [
    {
     "name": "stdout",
     "output_type": "stream",
     "text": [
      "['pork minced meat, mushrooms, pepper, salt, marjoram, thyme, basil, sweet peppers, oil, pasta, flour, eggs']\n"
     ]
    }
   ],
   "source": [
    "if language_cd == 'pl':\n",
    "    for el in items:\n",
    "        translated_items = translate_polish_to_english(el)\n",
    "        items.append(translated_items)\n",
    "        items.remove(el)\n",
    "print(items)"
   ]
  },
  {
   "cell_type": "markdown",
   "metadata": {},
   "source": [
    "### 6. Load chef model"
   ]
  },
  {
   "cell_type": "code",
   "execution_count": 6,
   "metadata": {},
   "outputs": [
    {
     "name": "stdout",
     "output_type": "stream",
     "text": [
      "Tytuł: minced stroganoff\n",
      "Składniki: 400 g mięsa wieprzowego mielonego\n",
      " 10 g grzybów, nakrojonych\n",
      " 1/8 łyżeczka pieprzu\n",
      " 1/8 łyżeczka soli\n",
      " 1/2 łyżeczka marjoram\n",
      " 1/2 łyżeczka tymiany\n",
      " 1/4 łyżeczka bazyliki\n",
      " 4 słodkie pieprzy, przekrojone i drobnie nakrojone\n",
      " olej, do smażenia\n",
      " makarony\n",
      " 250 g mąki ogólnej\n",
      " 2 jaja\n",
      "kierunki: ogrzewanie oleju w patelni do smażenia.\n",
      " dodać grzyby i smażyć na minutę lub tak.\n",
      " dodać mięso i smażyć na 5 minut na średnim ogniu.\n",
      " sezon z przyprawami i dodać pieprzy.\n",
      " mieszać smażyć na kolejne 3 minuty.\n",
      " dodać makaron do patelni i dobrze mieszać.\n",
      " pokryć patelni i gotować na 10 minut lub dopóki makaron jest gotowany.\n",
      " do servirowania, łyżka mielony stroganoff nad makaronem.\n"
     ]
    }
   ],
   "source": [
    "from transformers import FlaxAutoModelForSeq2SeqLM\n",
    "from transformers import AutoTokenizer\n",
    "MODEL_NAME_OR_PATH = \"flax-community/t5-recipe-generation\"\n",
    "tokenizer = AutoTokenizer.from_pretrained(MODEL_NAME_OR_PATH, use_fast=True)\n",
    "model = FlaxAutoModelForSeq2SeqLM.from_pretrained(MODEL_NAME_OR_PATH)\n",
    "\n",
    "prefix = \"items: \"\n",
    "generation_kwargs = {\n",
    "    \"max_length\": 512,\n",
    "    \"min_length\": 64,\n",
    "    \"no_repeat_ngram_size\": 3,\n",
    "    \"do_sample\": True,\n",
    "    \"top_k\": 60,\n",
    "    \"top_p\": 0.95\n",
    "}\n",
    "\n",
    "special_tokens = tokenizer.all_special_tokens\n",
    "tokens_map = {\n",
    "    \"<sep>\": \"--\",\n",
    "    \"<section>\": \"\\n\"\n",
    "}\n",
    "\n",
    "\n",
    "def skip_special_tokens(text, special_tokens):\n",
    "    for token in special_tokens:\n",
    "        text = text.replace(token, \"\")\n",
    "\n",
    "    return text\n",
    "\n",
    "\n",
    "def target_postprocessing(texts, special_tokens):\n",
    "    if not isinstance(texts, list):\n",
    "        texts = [texts]\n",
    "\n",
    "    new_texts = []\n",
    "    for text in texts:\n",
    "        text = skip_special_tokens(text, special_tokens)\n",
    "\n",
    "        for k, v in tokens_map.items():\n",
    "            text = text.replace(k, v)\n",
    "\n",
    "        new_texts.append(text)\n",
    "\n",
    "    return new_texts\n",
    "\n",
    "\n",
    "def generation_function(texts):\n",
    "    _inputs = texts if isinstance(texts, list) else [texts]\n",
    "    inputs = [prefix + inp for inp in _inputs]\n",
    "    inputs = tokenizer(\n",
    "        inputs,\n",
    "        max_length=256,\n",
    "        padding=\"max_length\",\n",
    "        truncation=True,\n",
    "        return_tensors=\"jax\"\n",
    "    )\n",
    "\n",
    "    input_ids = inputs.input_ids\n",
    "    attention_mask = inputs.attention_mask\n",
    "\n",
    "    output_ids = model.generate(\n",
    "        input_ids=input_ids,\n",
    "        attention_mask=attention_mask,\n",
    "        **generation_kwargs\n",
    "    )\n",
    "    generated = output_ids.sequences\n",
    "    generated_recipe = target_postprocessing(\n",
    "        tokenizer.batch_decode(generated, skip_special_tokens=False),\n",
    "        special_tokens\n",
    "    )\n",
    "    return generated_recipe\n",
    "\n",
    "generated = generation_function(items)\n",
    "text = generated[0].split(\"\\n\")\n",
    "final_translated_receipe = []\n",
    "if language_cd == 'pl':\n",
    "    for i in text:\n",
    "        final_translated_receipe.append(translate_english_to_polish(i))\n",
    "else:\n",
    "    for i in text:\n",
    "        final_translated_receipe.append(i)\n",
    "for section in final_translated_receipe:\n",
    "    steps = section[0].split(\"--\")\n",
    "    for el in steps:\n",
    "        print(el)"
   ]
  }
 ],
 "metadata": {
  "kernelspec": {
   "display_name": "Python 3",
   "language": "python",
   "name": "python3"
  },
  "language_info": {
   "codemirror_mode": {
    "name": "ipython",
    "version": 3
   },
   "file_extension": ".py",
   "mimetype": "text/x-python",
   "name": "python",
   "nbconvert_exporter": "python",
   "pygments_lexer": "ipython3",
   "version": "3.9.13"
  }
 },
 "nbformat": 4,
 "nbformat_minor": 2
}
